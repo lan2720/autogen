{
 "cells": [
  {
   "cell_type": "code",
   "execution_count": 1,
   "metadata": {},
   "outputs": [
    {
     "name": "stdout",
     "output_type": "stream",
     "text": [
      "{'request_timeout': 600, 'seed': 44, 'config_list': [{'model': 'gpt-4', 'api_key': '5d050ffec2b94f5eb43c54c80149561e', 'api_base': 'https://futu-002-caeast-001.openai.azure.com/', 'api_type': 'azure', 'api_version': '2023-07-01-preview'}], 'temperature': 0}\n"
     ]
    }
   ],
   "source": [
    "import re\n",
    "import arxiv\n",
    "import autogen\n",
    "\n",
    "default_llm_config ={\n",
    "    \"request_timeout\": 600,\n",
    "    \"seed\": 44,  # change the seed for different trials\n",
    "    \"config_list\": autogen.config_list_from_json(\n",
    "        \"OAI_CONFIG_LIST\",\n",
    "        filter_dict={\"model\": [\"gpt-4\"]},\n",
    "    ),\n",
    "    \"temperature\": 0,\n",
    "}\n",
    "print(default_llm_config)"
   ]
  },
  {
   "cell_type": "code",
   "execution_count": 2,
   "metadata": {},
   "outputs": [],
   "source": [
    "def search_arxiv(query, max_results=10):\n",
    "    query = re.sub(\"\\s+\", \" \", query)\n",
    "    query_parts = query.split(\" \")\n",
    "    query_ready = \"+AND+\".join(map(lambda p: f\"all:{p}\", query_parts))\n",
    "    print(f\"修改后的query: {query_ready}\")\n",
    "    # base_url = \"http://export.arxiv.org/api/query?\"\n",
    "    search = arxiv.Search(query=query, \n",
    "                          max_results=max_results, \n",
    "                          sort_by=arxiv.SortCriterion.Relevance, \n",
    "                          sort_order=arxiv.SortOrder.Descending)\n",
    "    output = []\n",
    "    for paper in search.results():\n",
    "        output.append({\"title\": paper.title, \"url\": paper.entry_id})\n",
    "    return output"
   ]
  },
  {
   "cell_type": "code",
   "execution_count": 3,
   "metadata": {},
   "outputs": [],
   "source": [
    "# create an AssistantAgent instance named \"assistant\"\n",
    "llm_config = default_llm_config.copy()\n",
    "llm_config[\"functions\"] = [\n",
    "    {\n",
    "        \"name\": \"search_arxiv\",\n",
    "        \"description\": \"To find arxiv papers related to user's query, use the arxiv API to search for relevant papers. Queries the arxiv API and prints the titles and URLs of the top n papers.\",\n",
    "        \"parameters\": {\n",
    "            \"type\": \"object\",\n",
    "            \"properties\": {\n",
    "                \"query\": {\n",
    "                    \"type\": \"string\",\n",
    "                    \"description\": \"user's input search_query towards arxiv api.\",\n",
    "                },\n",
    "                \"max_results\": {\n",
    "                    \"type\": \"integer\",\n",
    "                    \"description\": \"set the top n papers to fetch. Default to 10.\"\n",
    "                }\n",
    "            },\n",
    "            \"required\": [\"query\"],\n",
    "        },\n",
    "    }\n",
    "]\n",
    "assistant = autogen.AssistantAgent(\n",
    "    name=\"assistant\",\n",
    "    llm_config=llm_config,\n",
    "    # is_termination_msg=lambda x: True if \"TERMINATE\" in x.get(\"content\") else False,\n",
    ")"
   ]
  },
  {
   "cell_type": "code",
   "execution_count": 4,
   "metadata": {},
   "outputs": [],
   "source": [
    "# create a UserProxyAgent instance named \"user_proxy\"\n",
    "user_proxy = autogen.UserProxyAgent(\n",
    "    name=\"user_proxy\",\n",
    "    human_input_mode=\"NEVER\",\n",
    "    # is_termination_msg=lambda x: True if \"TERMINATE\" in x.get(\"content\") else False,\n",
    "    max_consecutive_auto_reply=10,\n",
    "    code_execution_config={\n",
    "        \"work_dir\": \"work_dir\",\n",
    "        \"use_docker\": False,\n",
    "    },\n",
    "    function_map={\"search_arxiv\": search_arxiv},\n",
    ")"
   ]
  },
  {
   "cell_type": "code",
   "execution_count": 5,
   "metadata": {},
   "outputs": [
    {
     "name": "stdout",
     "output_type": "stream",
     "text": [
      "\u001b[33muser_proxy\u001b[0m (to assistant):\n",
      "\n",
      "\n",
      "Find arxiv papers that show how are people studying trust calibration in AI based systems\n",
      "\n",
      "\n",
      "--------------------------------------------------------------------------------\n",
      "\u001b[33massistant\u001b[0m (to user_proxy):\n",
      "\n",
      "\u001b[32m***** Suggested function Call: search_arxiv *****\u001b[0m\n",
      "Arguments: \n",
      "{\n",
      "\"query\": \"trust calibration in AI based systems\",\n",
      "\"max_results\": 10\n",
      "}\n",
      "\u001b[32m*************************************************\u001b[0m\n",
      "\n",
      "--------------------------------------------------------------------------------\n",
      "\u001b[35m\n",
      ">>>>>>>> EXECUTING FUNCTION search_arxiv...\u001b[0m\n",
      "修改后的query: all:trust+AND+all:calibration+AND+all:in+AND+all:AI+AND+all:based+AND+all:systems\n",
      "\u001b[33muser_proxy\u001b[0m (to assistant):\n",
      "\n",
      "\u001b[32m***** Response from calling function \"search_arxiv\" *****\u001b[0m\n",
      "[{'title': 'Who Should I Trust: AI or Myself? Leveraging Human and AI Correctness Likelihood to Promote Appropriate Trust in AI-Assisted Decision-Making', 'url': 'http://arxiv.org/abs/2301.05809v1'}, {'title': 'Trust Calibration and Trust Respect: A Method for Building Team Cohesion in Human Robot Teams', 'url': 'http://arxiv.org/abs/2110.06809v1'}, {'title': 'Trust Considerations for Explainable Robots: A Human Factors Perspective', 'url': 'http://arxiv.org/abs/2005.05940v1'}, {'title': 'The Value of Measuring Trust in AI - A Socio-Technical System Perspective', 'url': 'http://arxiv.org/abs/2204.13480v1'}, {'title': 'A Systematic Literature Review of User Trust in AI-Enabled Systems: An HCI Perspective', 'url': 'http://arxiv.org/abs/2304.08795v1'}, {'title': \"Humans, AI, and Context: Understanding End-Users' Trust in a Real-World Computer Vision Application\", 'url': 'http://arxiv.org/abs/2305.08598v1'}, {'title': 'Knowing About Knowing: An Illusion of Human Competence Can Hinder Appropriate Reliance on AI Systems', 'url': 'http://arxiv.org/abs/2301.11333v1'}, {'title': 'The relationship between trust in AI and trustworthy machine learning technologies', 'url': 'http://arxiv.org/abs/1912.00782v2'}, {'title': 'Generative Adversarial Learning for Intelligent Trust Management in 6G Wireless Networks', 'url': 'http://arxiv.org/abs/2208.01221v1'}, {'title': 'Effect of Confidence and Explanation on Accuracy and Trust Calibration in AI-Assisted Decision Making', 'url': 'http://arxiv.org/abs/2001.02114v1'}]\n",
      "\u001b[32m*********************************************************\u001b[0m\n",
      "\n",
      "--------------------------------------------------------------------------------\n",
      "\u001b[33massistant\u001b[0m (to user_proxy):\n",
      "\n",
      "Here are some papers related to trust calibration in AI-based systems:\n",
      "\n",
      "1. [Who Should I Trust: AI or Myself? Leveraging Human and AI Correctness Likelihood to Promote Appropriate Trust in AI-Assisted Decision-Making](http://arxiv.org/abs/2301.05809v1)\n",
      "2. [Trust Calibration and Trust Respect: A Method for Building Team Cohesion in Human Robot Teams](http://arxiv.org/abs/2110.06809v1)\n",
      "3. [Trust Considerations for Explainable Robots: A Human Factors Perspective](http://arxiv.org/abs/2005.05940v1)\n",
      "4. [The Value of Measuring Trust in AI - A Socio-Technical System Perspective](http://arxiv.org/abs/2204.13480v1)\n",
      "5. [A Systematic Literature Review of User Trust in AI-Enabled Systems: An HCI Perspective](http://arxiv.org/abs/2304.08795v1)\n",
      "6. [Humans, AI, and Context: Understanding End-Users' Trust in a Real-World Computer Vision Application](http://arxiv.org/abs/2305.08598v1)\n",
      "7. [Knowing About Knowing: An Illusion of Human Competence Can Hinder Appropriate Reliance on AI Systems](http://arxiv.org/abs/2301.11333v1)\n",
      "8. [The relationship between trust in AI and trustworthy machine learning technologies](http://arxiv.org/abs/1912.00782v2)\n",
      "9. [Generative Adversarial Learning for Intelligent Trust Management in 6G Wireless Networks](http://arxiv.org/abs/2208.01221v1)\n",
      "10. [Effect of Confidence and Explanation on Accuracy and Trust Calibration in AI-Assisted Decision Making](http://arxiv.org/abs/2001.02114v1)\n",
      "\n",
      "You can click on the titles to access the full papers.\n",
      "\n",
      "TERMINATE\n",
      "\n",
      "--------------------------------------------------------------------------------\n",
      "\u001b[33muser_proxy\u001b[0m (to assistant):\n",
      "\n",
      "\n",
      "\n",
      "--------------------------------------------------------------------------------\n",
      "\u001b[33massistant\u001b[0m (to user_proxy):\n",
      "\n",
      "TERMINATE\n",
      "\n",
      "--------------------------------------------------------------------------------\n"
     ]
    }
   ],
   "source": [
    "task1 = \"\"\"\n",
    "Find arxiv papers that show how are people studying trust calibration in AI based systems\n",
    "\"\"\"\n",
    "# print(search_arxiv(\"large language model\"))\n",
    "user_proxy.initiate_chat(assistant, message=task1)"
   ]
  },
  {
   "cell_type": "code",
   "execution_count": null,
   "metadata": {},
   "outputs": [],
   "source": []
  }
 ],
 "metadata": {
  "kernelspec": {
   "display_name": "autogen",
   "language": "python",
   "name": "python3"
  },
  "language_info": {
   "codemirror_mode": {
    "name": "ipython",
    "version": 3
   },
   "file_extension": ".py",
   "mimetype": "text/x-python",
   "name": "python",
   "nbconvert_exporter": "python",
   "pygments_lexer": "ipython3",
   "version": "3.11.6"
  }
 },
 "nbformat": 4,
 "nbformat_minor": 2
}
