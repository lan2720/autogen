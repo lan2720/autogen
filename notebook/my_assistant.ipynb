{
 "cells": [
  {
   "cell_type": "code",
   "execution_count": 1,
   "metadata": {},
   "outputs": [
    {
     "name": "stdout",
     "output_type": "stream",
     "text": [
      "[{'model': 'gpt-4', 'api_key': '5d050ffec2b94f5eb43c54c80149561e', 'api_base': 'https://futu-002-caeast-001.openai.azure.com/', 'api_type': 'azure', 'api_version': '2023-07-01-preview'}, {'model': 'gpt-4-32k', 'api_key': '5d050ffec2b94f5eb43c54c80149561e', 'api_base': 'https://futu-002-caeast-001.openai.azure.com/', 'api_type': 'azure', 'api_version': '2023-07-01-preview'}]\n"
     ]
    }
   ],
   "source": [
    "import autogen\n",
    "\n",
    "config_list = autogen.config_list_from_json(\n",
    "    \"OAI_CONFIG_LIST\",\n",
    "    filter_dict={\n",
    "        \"model\": [\"gpt-4\", \"gpt-4-32k\"],\n",
    "    },\n",
    ")\n",
    "print(config_list)"
   ]
  },
  {
   "cell_type": "code",
   "execution_count": 2,
   "metadata": {},
   "outputs": [],
   "source": [
    "trail_id = 47\n",
    "default_llm_config = {\n",
    "        \"request_timeout\": 600,\n",
    "        \"seed\": trail_id,\n",
    "        # Excluding azure openai endpoints from the config list.\n",
    "        # Change to `exclude=\"openai\"` to exclude openai endpoints, or remove the `exclude` argument to include both.\n",
    "        \"config_list\": config_list,\n",
    "        \"model\": \"gpt-4\",  # make sure the endpoint you use supports the model\n",
    "        \"temperature\": 0\n",
    "    }"
   ]
  },
  {
   "cell_type": "code",
   "execution_count": 3,
   "metadata": {},
   "outputs": [],
   "source": [
    "assistant_for_jarvix = autogen.AssistantAgent(\n",
    "    name=\"assistant_for_jarvix\",\n",
    "    # system_message=\"You are a helpful assistant. Reply TERMINATE when the task is done.\",\n",
    "    llm_config=default_llm_config\n",
    ")\n",
    "\n",
    "# 我\n",
    "jarvix = autogen.UserProxyAgent(\n",
    "    name=\"jarvix_proxy\",\n",
    "    human_input_mode=\"NEVER\",#\"TERMINATE\",\n",
    "    max_consecutive_auto_reply=10,\n",
    "    code_execution_config={\"work_dir\": \"jarvix_proxy\",\n",
    "                           \"use_docker\": False},\n",
    "    # function_map={\"ask_expert\": ask_expert},\n",
    ")"
   ]
  },
  {
   "cell_type": "code",
   "execution_count": 4,
   "metadata": {},
   "outputs": [
    {
     "name": "stdout",
     "output_type": "stream",
     "text": [
      "\u001b[33mjarvix_proxy\u001b[0m (to assistant_for_jarvix):\n",
      "\n",
      "\n",
      "Given a long text in Traditional Chinese. Translate it to Simplified Chinese words by words without any additions or omissions. Save your code in file.\n",
      "\n",
      "\n",
      "--------------------------------------------------------------------------------\n",
      "\u001b[33massistant_for_jarvix\u001b[0m (to jarvix_proxy):\n",
      "\n",
      "Sure, we can use the `OpenCC` library in Python to convert Traditional Chinese to Simplified Chinese. Here is the Python code to do this:\n",
      "\n",
      "```python\n",
      "# filename: translate.py\n",
      "\n",
      "import opencc\n",
      "\n",
      "def translate(text):\n",
      "    converter = opencc.OpenCC('t2s.json')\n",
      "    simplified_text = converter.convert(text)\n",
      "    return simplified_text\n",
      "\n",
      "if __name__ == \"__main__\":\n",
      "    traditional_text = \"\"\"\n",
      "    這是一段繁體中文的文字，我們將使用OpenCC將其轉換為簡體中文。\n",
      "    \"\"\"\n",
      "    print(translate(traditional_text))\n",
      "```\n",
      "\n",
      "You can replace the `traditional_text` variable with your long text. The script will print the translated text.\n",
      "\n",
      "Please note that you need to install the `OpenCC` library before running this script. You can install it using pip:\n",
      "\n",
      "```sh\n",
      "pip install OpenCC\n",
      "```\n",
      "\n",
      "After installing the library, you can save the Python script to a file named `translate.py` and run it with Python.\n",
      "\n",
      "--------------------------------------------------------------------------------\n",
      "\u001b[31m\n",
      ">>>>>>>> EXECUTING CODE BLOCK 0 (inferred language is python)...\u001b[0m\n"
     ]
    },
    {
     "name": "stderr",
     "output_type": "stream",
     "text": [
      "execute_code was called with use_docker evaluating to True, but the python docker package is not available. Falling back to native code execution. Note: this fallback behavior is subject to change\n"
     ]
    },
    {
     "name": "stdout",
     "output_type": "stream",
     "text": [
      "\u001b[33mjarvix_proxy\u001b[0m (to assistant_for_jarvix):\n",
      "\n",
      "exitcode: 1 (execution failed)\n",
      "Code output: \n",
      "Traceback (most recent call last):\n",
      "  File \"translate.py\", line 3, in <module>\n",
      "    import opencc\n",
      "ModuleNotFoundError: No module named 'opencc'\n",
      "\n",
      "\n",
      "--------------------------------------------------------------------------------\n",
      "\u001b[33massistant_for_jarvix\u001b[0m (to jarvix_proxy):\n",
      "\n",
      "I apologize for the confusion. The OpenCC library is not directly available for Python. However, there is a Python wrapper for OpenCC called `opencc-python-reimplemented` which can be installed via pip. \n",
      "\n",
      "Please install it using the following command:\n",
      "\n",
      "```sh\n",
      "pip install opencc-python-reimplemented\n",
      "```\n",
      "\n",
      "After installing the library, you can use the following Python script to translate Traditional Chinese to Simplified Chinese:\n",
      "\n",
      "```python\n",
      "# filename: translate.py\n",
      "\n",
      "from opencc import OpenCC\n",
      "\n",
      "def translate(text):\n",
      "    cc = OpenCC('t2s')\n",
      "    simplified_text = cc.convert(text)\n",
      "    return simplified_text\n",
      "\n",
      "if __name__ == \"__main__\":\n",
      "    traditional_text = \"\"\"\n",
      "    這是一段繁體中文的文字，我們將使用OpenCC將其轉換為簡體中文。\n",
      "    \"\"\"\n",
      "    print(translate(traditional_text))\n",
      "```\n",
      "\n",
      "You can replace the `traditional_text` variable with your long text. The script will print the translated text.\n",
      "\n",
      "--------------------------------------------------------------------------------\n",
      "\u001b[31m\n",
      ">>>>>>>> EXECUTING CODE BLOCK 0 (inferred language is sh)...\u001b[0m\n"
     ]
    },
    {
     "name": "stderr",
     "output_type": "stream",
     "text": [
      "execute_code was called with use_docker evaluating to True, but the python docker package is not available. Falling back to native code execution. Note: this fallback behavior is subject to change\n"
     ]
    },
    {
     "name": "stdout",
     "output_type": "stream",
     "text": [
      "\u001b[31m\n",
      ">>>>>>>> EXECUTING CODE BLOCK 1 (inferred language is python)...\u001b[0m\n"
     ]
    },
    {
     "name": "stderr",
     "output_type": "stream",
     "text": [
      "execute_code was called with use_docker evaluating to True, but the python docker package is not available. Falling back to native code execution. Note: this fallback behavior is subject to change\n"
     ]
    },
    {
     "name": "stdout",
     "output_type": "stream",
     "text": [
      "\u001b[33mjarvix_proxy\u001b[0m (to assistant_for_jarvix):\n",
      "\n",
      "exitcode: 0 (execution succeeded)\n",
      "Code output: \n",
      "Looking in indexes: https://mirrors.aliyun.com/pypi/simple/\n",
      "Collecting opencc-python-reimplemented\n",
      "  Downloading https://mirrors.aliyun.com/pypi/packages/30/6b/055b7806f320cc8f2cdf23c5f70221c0dc1683fca9ffaf76dfc2ad4b91b6/opencc_python_reimplemented-0.1.7-py2.py3-none-any.whl (481 kB)\n",
      "\u001b[?25l     \u001b[90m━━━━━━━━━━━━━━━━━━━━━━━━━━━━━━━━━━━━━━━━\u001b[0m \u001b[32m0.0/481.8 kB\u001b[0m \u001b[31m?\u001b[0m eta \u001b[36m-:--:--\u001b[0m\n",
      "\u001b[2K     \u001b[91m━━━━━━━\u001b[0m\u001b[91m╸\u001b[0m\u001b[90m━━━━━━━━━━━━━━━━━━━━━━━━━━━━━━━━\u001b[0m \u001b[32m92.2/481.8 kB\u001b[0m \u001b[31m2.8 MB/s\u001b[0m eta \u001b[36m0:00:01\u001b[0m\n",
      "\u001b[2K     \u001b[91m━━━━━━━━━━━━━━━━━━━━━━━━━━━━━━━━━━━━\u001b[0m\u001b[90m╺\u001b[0m\u001b[90m━━\u001b[0m \u001b[32m450.6/481.8 kB\u001b[0m \u001b[31m6.2 MB/s\u001b[0m eta \u001b[36m0:00:01\u001b[0m\n",
      "\u001b[2K     \u001b[90m━━━━━━━━━━━━━━━━━━━━━━━━━━━━━━━━━━━━━━━\u001b[0m \u001b[32m481.8/481.8 kB\u001b[0m \u001b[31m5.1 MB/s\u001b[0m eta \u001b[36m0:00:00\u001b[0m\n",
      "\u001b[?25hInstalling collected packages: opencc-python-reimplemented\n",
      "Successfully installed opencc-python-reimplemented-0.1.7\n",
      "\n",
      "\n",
      "    这是一段繁体中文的文字，我们将使用OpenCC将其转换为简体中文。\n",
      "    \n",
      "\n",
      "\n",
      "--------------------------------------------------------------------------------\n",
      "\u001b[33massistant_for_jarvix\u001b[0m (to jarvix_proxy):\n",
      "\n",
      "Great! The code has successfully translated the Traditional Chinese text to Simplified Chinese. The output text is in Simplified Chinese as expected. \n",
      "\n",
      "If you have a different Traditional Chinese text, you can replace the `traditional_text` variable in the script with your text and run the script again to get the Simplified Chinese translation.\n",
      "\n",
      "TERMINATE\n",
      "\n",
      "--------------------------------------------------------------------------------\n",
      "\u001b[33mjarvix_proxy\u001b[0m (to assistant_for_jarvix):\n",
      "\n",
      "\n",
      "\n",
      "--------------------------------------------------------------------------------\n",
      "\u001b[33massistant_for_jarvix\u001b[0m (to jarvix_proxy):\n",
      "\n",
      "TERMINATE\n",
      "\n",
      "--------------------------------------------------------------------------------\n"
     ]
    }
   ],
   "source": [
    "task1 = \"\"\"\n",
    "Given a long text in Traditional Chinese. Translate it to Simplified Chinese words by words without any additions or omissions. Save your code in file.\n",
    "\"\"\"\n",
    "jarvix.initiate_chat(assistant_for_jarvix, message=task1)"
   ]
  },
  {
   "cell_type": "code",
   "execution_count": 6,
   "metadata": {},
   "outputs": [
    {
     "name": "stdout",
     "output_type": "stream",
     "text": [
      "\u001b[33mjarvix_proxy\u001b[0m (to assistant_for_jarvix):\n",
      "\n",
      "\n",
      "Given a python function, read it overally and fully understand it, then write descriptions for the function and all input parameters, response in bullet items.\n",
      "The python function: \n",
      "def extract_text_from_pdf(file: str) -> str:\n",
      "    # Extract text from PDF files\n",
      "    text = \"\"\n",
      "    with open(file, \"rb\") as f:\n",
      "        reader = pypdf.PdfReader(f)\n",
      "        if reader.is_encrypted:  # Check if the PDF is encrypted\n",
      "            try:\n",
      "                reader.decrypt(\"\")\n",
      "            except pypdf.errors.FileNotDecryptedError as e:\n",
      "                logger.warning(f\"Could not decrypt PDF {file}, {e}\")\n",
      "                return text  # Return empty text if PDF could not be decrypted\n",
      "\n",
      "        for page_num in range(len(reader.pages)):\n",
      "            page = reader.pages[page_num]\n",
      "            text += page.extract_text()\n",
      "\n",
      "    if not text.strip():  # Debugging line to check if text is empty\n",
      "        logger.warning(f\"Could not decrypt PDF {file}\")\n",
      "\n",
      "    return text\n",
      "\n",
      "\n",
      "--------------------------------------------------------------------------------\n",
      "\u001b[33massistant_for_jarvix\u001b[0m (to jarvix_proxy):\n",
      "\n",
      "- Function Name: `extract_text_from_pdf`\n",
      "- Description: This function is designed to extract text from a PDF file. It opens the file, reads it using a PDF reader, checks if the file is encrypted, and if so, attempts to decrypt it. It then iterates over each page in the PDF, extracting the text and appending it to a string. If the PDF is encrypted and cannot be decrypted, or if no text can be extracted, it logs a warning and returns an empty string.\n",
      "\n",
      "- Input Parameters:\n",
      "    - `file`: This is a string representing the path to the PDF file from which the text is to be extracted.\n",
      "\n",
      "- Output: \n",
      "    - The function returns a string containing all the text extracted from the PDF file. If the PDF is encrypted and cannot be decrypted, or if no text can be extracted, it returns an empty string.\n",
      "\n",
      "- Exceptions:\n",
      "    - The function handles the `FileNotDecryptedError` exception, which is raised if the PDF file is encrypted and cannot be decrypted. In this case, it logs a warning and returns an empty string.\n",
      "\n",
      "- Dependencies:\n",
      "    - This function depends on the `pypdf` library for reading and decrypting the PDF file, and the `logger` for logging warnings.\n",
      "\n",
      "--------------------------------------------------------------------------------\n",
      "\u001b[33mjarvix_proxy\u001b[0m (to assistant_for_jarvix):\n",
      "\n",
      "\n",
      "\n",
      "--------------------------------------------------------------------------------\n",
      "\u001b[33massistant_for_jarvix\u001b[0m (to jarvix_proxy):\n",
      "\n",
      "TERMINATE\n",
      "\n",
      "--------------------------------------------------------------------------------\n"
     ]
    }
   ],
   "source": [
    "task2 = \"\"\"\n",
    "Given a python function, read it overally and fully understand it, then write descriptions for the function and all input parameters, response in bullet items.\n",
    "The python function: \n",
    "def extract_text_from_pdf(file: str) -> str:\n",
    "    # Extract text from PDF files\n",
    "    text = \"\"\n",
    "    with open(file, \"rb\") as f:\n",
    "        reader = pypdf.PdfReader(f)\n",
    "        if reader.is_encrypted:  # Check if the PDF is encrypted\n",
    "            try:\n",
    "                reader.decrypt(\"\")\n",
    "            except pypdf.errors.FileNotDecryptedError as e:\n",
    "                logger.warning(f\"Could not decrypt PDF {file}, {e}\")\n",
    "                return text  # Return empty text if PDF could not be decrypted\n",
    "\n",
    "        for page_num in range(len(reader.pages)):\n",
    "            page = reader.pages[page_num]\n",
    "            text += page.extract_text()\n",
    "\n",
    "    if not text.strip():  # Debugging line to check if text is empty\n",
    "        logger.warning(f\"Could not decrypt PDF {file}\")\n",
    "\n",
    "    return text\n",
    "\"\"\"\n",
    "\n",
    "jarvix.initiate_chat(assistant_for_jarvix, message=task2)"
   ]
  },
  {
   "cell_type": "code",
   "execution_count": null,
   "metadata": {},
   "outputs": [],
   "source": []
  }
 ],
 "metadata": {
  "kernelspec": {
   "display_name": "autogen",
   "language": "python",
   "name": "python3"
  },
  "language_info": {
   "codemirror_mode": {
    "name": "ipython",
    "version": 3
   },
   "file_extension": ".py",
   "mimetype": "text/x-python",
   "name": "python",
   "nbconvert_exporter": "python",
   "pygments_lexer": "ipython3",
   "version": "3.11.6"
  }
 },
 "nbformat": 4,
 "nbformat_minor": 2
}
