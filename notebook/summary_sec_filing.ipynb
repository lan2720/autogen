{
 "cells": [
  {
   "cell_type": "code",
   "execution_count": 2,
   "metadata": {},
   "outputs": [],
   "source": [
    "import re\n",
    "import autogen"
   ]
  },
  {
   "cell_type": "code",
   "execution_count": 3,
   "metadata": {},
   "outputs": [
    {
     "name": "stdout",
     "output_type": "stream",
     "text": [
      "{'request_timeout': 600, 'seed': 45, 'config_list': [{'model': 'gpt-4', 'api_key': '5d050ffec2b94f5eb43c54c80149561e', 'api_base': 'https://futu-002-caeast-001.openai.azure.com/', 'api_type': 'azure', 'api_version': '2023-07-01-preview'}], 'temperature': 0}\n"
     ]
    }
   ],
   "source": [
    "# change the seed for different trials\n",
    "trail_id = 45\n",
    "\n",
    "default_llm_config ={\n",
    "    \"request_timeout\": 600,\n",
    "    \"seed\": trail_id,  # change the seed for different trials\n",
    "    \"config_list\": autogen.config_list_from_json(\n",
    "        \"OAI_CONFIG_LIST\",\n",
    "        filter_dict={\"model\": [\"gpt-4\"]},\n",
    "    ),\n",
    "    \"temperature\": 0,\n",
    "}\n",
    "print(default_llm_config)"
   ]
  },
  {
   "cell_type": "code",
   "execution_count": null,
   "metadata": {},
   "outputs": [],
   "source": []
  }
 ],
 "metadata": {
  "kernelspec": {
   "display_name": "autogen",
   "language": "python",
   "name": "python3"
  },
  "language_info": {
   "codemirror_mode": {
    "name": "ipython",
    "version": 3
   },
   "file_extension": ".py",
   "mimetype": "text/x-python",
   "name": "python",
   "nbconvert_exporter": "python",
   "pygments_lexer": "ipython3",
   "version": "3.11.6"
  }
 },
 "nbformat": 4,
 "nbformat_minor": 2
}
